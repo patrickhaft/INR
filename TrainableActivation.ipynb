{
 "cells": [
  {
   "cell_type": "code",
   "execution_count": 10,
   "metadata": {},
   "outputs": [],
   "source": [
    "import numpy as np\n",
    "\n",
    "import torch\n",
    "import torch.nn as nn\n",
    "import matplotlib.pyplot as plt"
   ]
  },
  {
   "cell_type": "code",
   "execution_count": 37,
   "metadata": {},
   "outputs": [],
   "source": [
    "class LinearActivation(nn.Module):\n",
    "    def __init__(self, vmin, vmax):\n",
    "        super(LinearActivation, self).__init__()\n",
    "        self.vmin = vmin\n",
    "        self.vmax = vmax\n",
    "\n",
    "    def forward(self, input):\n",
    "        return torch.clamp(input, self.vmin, self.vmax)\n",
    "    \n",
    "    def draw(self, weights, vmin, vmax, scale=2):\n",
    "        x = torch.linspace(scale*vmin, scale*vmax, 1001, dtype=weights.dtype).unsqueeze_(0)\n",
    "        x = x.repeat(weights.shape[0], 1)\n",
    "        f_x =  self.forward(x)\n",
    "        return x, f_x\n"
   ]
  },
  {
   "cell_type": "code",
   "execution_count": 38,
   "metadata": {},
   "outputs": [],
   "source": [
    "def projection_onto_grad_bound(x, A, gmin, gmax, num_max_iter=3000, stopping_value=1e-8):\n",
    "    # compute the Lipschitz constant\n",
    "    L = np.linalg.norm(np.dot(A, A.T), 2)\n",
    "\n",
    "    # transform the input to numpy\n",
    "    np_x = x.detach().cpu().numpy().T\n",
    "    np_x_bar = np_x.copy()\n",
    "\n",
    "    # define the Lagrange duals\n",
    "    np_l = np.zeros((A.shape[0], np_x.shape[1]), dtype=np.float32)\n",
    "    # use Fista\n",
    "    np_l_old = np_l.copy()\n",
    "\n",
    "    for k in range(1,num_max_iter+1):\n",
    "        beta = (k - 1) / (k + 2)\n",
    "        np_l_hat = np_l + beta * (np_l - np_l_old)\n",
    "        np_l_old = np_l.copy()\n",
    "\n",
    "        grad_l = np.dot(A, np.dot(A.T, np_l_hat) - np_x_bar)\n",
    "        np_l_hat = np_l_hat - grad_l/L\n",
    "        np_l = np_l_hat - 1./L * np.maximum(gmin, np.minimum(gmax, np_l_hat * L))\n",
    "\n",
    "        np_x_old = np_x.copy()\n",
    "        np_x = np_x_bar - np.dot(A.T, np_l)\n",
    "\n",
    "        np_diff = np.sqrt(np.mean((np_x_old - np_x) ** 2))\n",
    "\n",
    "        if k > 1 and np_diff < stopping_value:\n",
    "            break\n",
    "\n",
    "    if np_diff > stopping_value:\n",
    "        print('   Projection onto linear constraints: %d/%d iterations' % (k, num_max_iter))\n",
    "\n",
    "    x.data = torch.as_tensor(np_x.T, dtype=x.dtype, device=x.device)"
   ]
  },
  {
   "cell_type": "code",
   "execution_count": 39,
   "metadata": {},
   "outputs": [],
   "source": [
    "class TrainableActivation(nn.Module):\n",
    "    def __init__(self, num_channels, vmin, vmax, num_weights, init_scale=1.0,\n",
    "                 group=1, bmin=None, bmax=None, gmin=None, gmax=None):\n",
    "        super(TrainableActivation, self).__init__()\n",
    "\n",
    "        self.num_channels = num_channels\n",
    "        self.vmin = vmin\n",
    "        self.vmax = vmax\n",
    "        self.num_weights = num_weights\n",
    "        self.init_scale = init_scale\n",
    "        self.group = group\n",
    "        self.bmin = bmin\n",
    "        self.bmax = bmax\n",
    "        self.gmin = gmin\n",
    "        self.gmax = gmax\n",
    "     \n",
    "        # setup the parameters of the layer\n",
    "        self.weight = nn.Parameter(torch.Tensor(self.num_channels, self.num_weights))\n",
    "        self.reset_parameters()\n",
    "\n",
    "        # define the reduction index\n",
    "        self.weight.reduction_dim = (1, )\n",
    "        # possibly add a projection function\n",
    "        # self.weight.proj = lambda _: pass\n",
    "\n",
    "\n",
    "\n",
    "        delta_x = (self.vmax - self.vmin) / (self.num_weights - 1)\n",
    "\n",
    "        eye = np.eye(self.num_weights)\n",
    "        forward_differences = (np.diag(-np.ones((self.num_weights,)), k=0)[:-1, :] +\n",
    "                                np.diag(np.ones(self.num_weights - 1, ), k=1)[:-1, :]) / delta_x\n",
    "        A = np.vstack((eye, forward_differences))\n",
    "        lower_bound = np.vstack((\n",
    "            bmin * np.ones((self.num_weights, self.num_channels), dtype=np.float32),\n",
    "            gmin * np.ones((self.num_weights-1, self.num_channels), dtype=np.float32)\n",
    "        ))\n",
    "        upper_bound = np.vstack((\n",
    "            bmax * np.ones((self.num_weights, self.num_channels), dtype=np.float32),\n",
    "            gmax * np.ones((self.num_weights-1, self.num_channels), dtype=np.float32)\n",
    "        ))\n",
    "        self.weight.proj = lambda: projection_onto_grad_bound(self.weight, A, \n",
    "                        lower_bound, upper_bound)\n",
    "        # set the operator to linear\n",
    "        self.op = LinearActivation(self.vmin, self.vmax)\n",
    "        \n",
    "\n",
    "    def reset_parameters(self):\n",
    "        # define the bins\n",
    "        np_x = np.linspace(self.vmin, self.vmax, self.num_weights, dtype=np.float32)[np.newaxis, :]\n",
    "        \n",
    "        np_w = np_x * self.init_scale\n",
    "\n",
    "        # tile to proper size\n",
    "        np_w = np.tile(np_w, (self.num_channels, 1))\n",
    "\n",
    "        self.weight.data = torch.from_numpy(np_w)\n",
    "\n",
    "    def forward(self, x):\n",
    "        # first reshape the input\n",
    "        x = x.transpose(0, 1).contiguous()\n",
    "        if x.shape[0] % self.group != 0:\n",
    "            raise RuntimeError(\"Input shape must be a multiple of group!\") \n",
    "        x_r = x.view(x.shape[0]//self.group, -1)\n",
    "        # compute the output\n",
    "        x_r = self.op.apply(x_r, self.weight, self.base_type, self.vmin, self.vmax)\n",
    "        return x_r.view(x.shape).transpose_(0, 1)\n",
    "\n",
    "    def draw(self, scale=2):\n",
    "        return self.op.draw(self.weight, self.vmin, self.vmax, scale=scale)\n",
    "\n",
    "    def extra_repr(self):\n",
    "        s = \"num_channels={num_channels}, num_weights={num_weights}, type={base_type}, vmin={vmin}, vmax={vmax}, init={init}, init_scale={init_scale}\"\n",
    "        s += \" group={group}, bmin={bmin}, bmax={bmax}, gmin={gmin}, gmax={gmax}, norm={norm}, tv2<={tv2}, symmetric={symmetric}\"\n",
    "        return s.format(**self.__dict__)"
   ]
  },
  {
   "cell_type": "code",
   "execution_count": 57,
   "metadata": {},
   "outputs": [],
   "source": [
    "train_act = TrainableActivation(1, -20, 20, 256,bmin=5 ,bmax=1, gmin=1, gmax=1)"
   ]
  },
  {
   "cell_type": "code",
   "execution_count": 58,
   "metadata": {},
   "outputs": [
    {
     "data": {
      "image/png": "[encoded data removed]",
      "text/plain": [
       "<Figure size 640x480 with 1 Axes>"
      ]
     },
     "metadata": {},
     "output_type": "display_data"
    }
   ],
   "source": [
    "x, y = train_act.draw()\n",
    "x = x.detach().numpy()\n",
    "y = y.detach().numpy()\n",
    "# Plot the coordinates\n",
    "plt.scatter(x, y, s=1, marker=\".\")\n",
    "plt.xlabel('X')\n",
    "plt.ylabel('Y')\n",
    "plt.title('Linear Activation')\n",
    "plt.grid(True)\n",
    "plt.show()"
   ]
  },
  {
   "cell_type": "code",
   "execution_count": null,
   "metadata": {},
   "outputs": [],
   "source": []
  }
 ],
 "metadata": {
  "kernelspec": {
   "display_name": "Python 3.8.16 ('NIR')",
   "language": "python",
   "name": "python3"
  },
  "language_info": {
   "codemirror_mode": {
    "name": "ipython",
    "version": 3
   },
   "file_extension": ".py",
   "mimetype": "text/x-python",
   "name": "python",
   "nbconvert_exporter": "python",
   "pygments_lexer": "ipython3",
   "version": "3.8.16"
  },
  "orig_nbformat": 4,
  "vscode": {
   "interpreter": {
    "hash": "9992bc6f5bd84082f2102dd76f25c28e710f58ce4888bc46736158c2b6efd995"
   }
  }
 },
 "nbformat": 4,
 "nbformat_minor": 2
}
